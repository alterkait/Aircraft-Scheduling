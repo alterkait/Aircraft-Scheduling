{
 "cells": [
  {
   "cell_type": "code",
   "execution_count": 2,
   "metadata": {},
   "outputs": [],
   "source": [
    "flight_1 =['SU001', 2, True, False] \n",
    "flight_2 =['SU002', 2, True, False]\n",
    "flight_3 =['SU003', 1, False, False]\n",
    "\n",
    "flight_dir = [flight_1, flight_2, flight_3]"
   ]
  },
  {
   "cell_type": "code",
   "execution_count": 4,
   "metadata": {},
   "outputs": [],
   "source": [
    "def print_name(flight_dir):\n",
    "    for name in flight_dir:\n",
    "        return((name[0]))\n",
    "        \n",
    "\n",
    "def print_size(flight_dir):\n",
    "    plane_size = ''\n",
    "    \n",
    "    for size in flight_dir:\n",
    "        if size[1] == 1:\n",
    "            plane_size = 'Aircaft size: small'\n",
    "        elif size[1] == 2:\n",
    "            plane_size = 'Aircraft size: medium'\n",
    "        else:\n",
    "            plane_size = 'Aircraft size: heavy'\n",
    "            \n",
    "        return (plane_size)\n",
    "        \n",
    "def print_process(flight_dir):\n",
    "    plane_process = ''\n",
    "    \n",
    "    for process in flight_dir:\n",
    "        if process[2] == True:\n",
    "            plane_process = 'Plane is attempting Landing'\n",
    "        elif process[2] == False:\n",
    "            plane_process = 'Plane is parked at the gate'\n",
    "        else:\n",
    "            plane_process = 'Plane status is unknown.'\n",
    "            \n",
    "            \n",
    "        return(plane_process)\n",
    "        \n",
    "def print_failure(flight_dir):\n",
    "    plane_failure = ''\n",
    "    \n",
    "    for fail in flight_dir:\n",
    "        if fail[3] == True:\n",
    "            plane_failure = 'Plane is experiencing Mechanical Failure'\n",
    "        else:\n",
    "            plane_failure = 'Plane is not experiencing any Failures'\n",
    "            \n",
    "        return(plane_failure)\n",
    "\n"
   ]
  },
  {
   "cell_type": "code",
   "execution_count": 6,
   "metadata": {},
   "outputs": [
    {
     "ename": "IndexError",
     "evalue": "list index out of range",
     "output_type": "error",
     "traceback": [
      "\u001b[1;31m---------------------------------------------------------------------------\u001b[0m",
      "\u001b[1;31mIndexError\u001b[0m                                Traceback (most recent call last)",
      "\u001b[1;32m<ipython-input-6-89390f609910>\u001b[0m in \u001b[0;36m<module>\u001b[1;34m\u001b[0m\n\u001b[0;32m      1\u001b[0m \u001b[0mflight_dir_updated\u001b[0m \u001b[1;33m=\u001b[0m \u001b[1;33m[\u001b[0m\u001b[1;33m[\u001b[0m\u001b[1;33m]\u001b[0m\u001b[1;33m,\u001b[0m \u001b[1;33m[\u001b[0m\u001b[1;33m]\u001b[0m\u001b[1;33m,\u001b[0m \u001b[1;33m[\u001b[0m\u001b[1;33m]\u001b[0m\u001b[1;33m]\u001b[0m\u001b[1;33m\u001b[0m\u001b[1;33m\u001b[0m\u001b[0m\n\u001b[0;32m      2\u001b[0m \u001b[1;33m\u001b[0m\u001b[0m\n\u001b[1;32m----> 3\u001b[1;33m \u001b[0mflight_dir_updated\u001b[0m\u001b[1;33m[\u001b[0m\u001b[1;36m0\u001b[0m\u001b[1;33m]\u001b[0m\u001b[1;33m[\u001b[0m\u001b[1;36m0\u001b[0m\u001b[1;33m]\u001b[0m\u001b[1;33m.\u001b[0m\u001b[0mappend\u001b[0m\u001b[1;33m(\u001b[0m\u001b[0mflight_1\u001b[0m\u001b[1;33m)\u001b[0m\u001b[1;33m\u001b[0m\u001b[1;33m\u001b[0m\u001b[0m\n\u001b[0m\u001b[0;32m      4\u001b[0m \u001b[0mprint\u001b[0m\u001b[1;33m(\u001b[0m\u001b[0mflight_dir_updated\u001b[0m\u001b[1;33m)\u001b[0m\u001b[1;33m\u001b[0m\u001b[1;33m\u001b[0m\u001b[0m\n",
      "\u001b[1;31mIndexError\u001b[0m: list index out of range"
     ]
    }
   ],
   "source": [
    "flight_dir_updated = [[], [], []]\n",
    "\n",
    "flight_dir_updated[0][0].append(flight_1)\n",
    "print(flight_dir_updated)"
   ]
  },
  {
   "cell_type": "code",
   "execution_count": 8,
   "metadata": {},
   "outputs": [
    {
     "data": {
      "text/plain": [
       "'SU001'"
      ]
     },
     "execution_count": 8,
     "metadata": {},
     "output_type": "execute_result"
    }
   ],
   "source": [
    "print_name(flight_dir)"
   ]
  },
  {
   "cell_type": "code",
   "execution_count": 10,
   "metadata": {},
   "outputs": [
    {
     "data": {
      "text/plain": [
       "'Aircraft size: medium'"
      ]
     },
     "execution_count": 10,
     "metadata": {},
     "output_type": "execute_result"
    }
   ],
   "source": [
    "print_size(flight_dir)"
   ]
  },
  {
   "cell_type": "code",
   "execution_count": 12,
   "metadata": {},
   "outputs": [
    {
     "data": {
      "text/plain": [
       "'Plane is attempting Landing'"
      ]
     },
     "execution_count": 12,
     "metadata": {},
     "output_type": "execute_result"
    }
   ],
   "source": [
    "print_process(flight_dir)"
   ]
  },
  {
   "cell_type": "code",
   "execution_count": 14,
   "metadata": {},
   "outputs": [
    {
     "data": {
      "text/plain": [
       "'Plane is not experiencing any Failures'"
      ]
     },
     "execution_count": 14,
     "metadata": {},
     "output_type": "execute_result"
    }
   ],
   "source": [
    "print_failure(flight_dir)"
   ]
  },
  {
   "cell_type": "code",
   "execution_count": 16,
   "metadata": {},
   "outputs": [
    {
     "name": "stdout",
     "output_type": "stream",
     "text": [
      "SU001\n",
      "2\n",
      "True\n",
      "False\n",
      "SU002\n",
      "2\n",
      "True\n",
      "False\n",
      "SU003\n",
      "1\n",
      "False\n",
      "False\n"
     ]
    }
   ],
   "source": [
    "for plane_info in flight_dir:\n",
    "    for element in plane_info:\n",
    "        print(element)\n"
   ]
  },
  {
   "cell_type": "code",
   "execution_count": 18,
   "metadata": {},
   "outputs": [
    {
     "name": "stdout",
     "output_type": "stream",
     "text": [
      "Plane:  SU001 size:  2 process:  True failure:  False\n",
      "Plane:  SU002 size:  2 process:  True failure:  False\n",
      "Plane:  SU003 size:  1 process:  False failure:  False\n"
     ]
    }
   ],
   "source": [
    "\n",
    "for name, size, process, fail in flight_dir:\n",
    "    print('Plane: ', name, 'size: ', size, 'process: ', process, 'failure: ', fail)\n",
    "\n"
   ]
  },
  {
   "cell_type": "code",
   "execution_count": 19,
   "metadata": {},
   "outputs": [
    {
     "name": "stdout",
     "output_type": "stream",
     "text": [
      "Aircraft Callsign:  SU001\n",
      "Aircraft size:  2\n",
      "Aircraft Callsign:  SU002\n",
      "Aircraft size:  2\n",
      "Aircraft Callsign:  SU003\n",
      "Aircraft size:  1\n"
     ]
    }
   ],
   "source": [
    "for name, size, process, fail in flight_dir:\n",
    "    print('Aircraft Callsign: ', name)\n",
    "    print('Aircraft size: ', size)"
   ]
  }
 ],
 "metadata": {
  "kernelspec": {
   "display_name": "Python 3",
   "language": "python",
   "name": "python3"
  },
  "language_info": {
   "codemirror_mode": {
    "name": "ipython",
    "version": 3
   },
   "file_extension": ".py",
   "mimetype": "text/x-python",
   "name": "python",
   "nbconvert_exporter": "python",
   "pygments_lexer": "ipython3",
   "version": "3.7.10"
  }
 },
 "nbformat": 4,
 "nbformat_minor": 4
}
